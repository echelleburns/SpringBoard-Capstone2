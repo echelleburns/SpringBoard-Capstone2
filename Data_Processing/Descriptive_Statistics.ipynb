{
 "cells": [
  {
   "cell_type": "markdown",
   "metadata": {},
   "source": [
    "# Descriptive Statistics\n",
    "\n",
    "Examine the distribution of data in regards to number of people per image in the model pictures."
   ]
  },
  {
   "cell_type": "code",
   "execution_count": 1,
   "metadata": {},
   "outputs": [],
   "source": [
    "# Import the necessary packages\n",
    "import matplotlib.pyplot as plt\n",
    "import pandas as pd\n",
    "from skimage import io, filters, measure\n",
    "from glob import glob"
   ]
  },
  {
   "cell_type": "code",
   "execution_count": 2,
   "metadata": {},
   "outputs": [],
   "source": [
    "# Find location of image files and labeled images\n",
    "labels = glob('data/processed/dots/with_people/splits/*.png')"
   ]
  },
  {
   "cell_type": "code",
   "execution_count": 3,
   "metadata": {},
   "outputs": [],
   "source": [
    "# Save people counts per image\n",
    "people_counts = [] # empty list to add to\n",
    "for label in labels: # for each label in the list of files\n",
    "    label_temp = io.imread(label, as_gray=True) # read in as gray\n",
    "    labels_temp = measure.label(label_temp) # measure the number of values\n",
    "    label_flatten = labels_temp.max() # find max value (# of people)\n",
    "    people_counts.append(label_flatten) # append the value into the list"
   ]
  },
  {
   "cell_type": "code",
   "execution_count": 4,
   "metadata": {},
   "outputs": [],
   "source": [
    "# Convert to dataframe\n",
    "people_counts = pd.DataFrame({'people':people_counts})"
   ]
  },
  {
   "cell_type": "code",
   "execution_count": 5,
   "metadata": {},
   "outputs": [],
   "source": [
    "# Count the number of times each number of people is present in the \n",
    "# dataset\n",
    "people_table = people_counts.people.value_counts().reset_index()\n",
    "people_table.columns = ['People', 'Frequency']\n",
    "\n",
    "# Noticed that 10 people are not present in any image, so for plotting\n",
    "# purposes, I will add a row for 10 people with a frequency of 0\n",
    "people_table = people_table.append({'People': 10, 'Frequency':0}, ignore_index=True)\n",
    "\n",
    "# Resort the table\n",
    "people_table = people_table.sort_values('People', ascending=True)"
   ]
  },
  {
   "cell_type": "code",
   "execution_count": 6,
   "metadata": {},
   "outputs": [
    {
     "data": {
      "image/png": "[encoded data removed]",
      "text/plain": [
       "<Figure size 720x360 with 1 Axes>"
      ]
     },
     "metadata": {
      "needs_background": "light"
     },
     "output_type": "display_data"
    }
   ],
   "source": [
    "# Plot the table to see the distribution\n",
    "people_table.plot(x='People', y='Frequency', kind='bar', legend=False, figsize=(10,5))\n",
    "plt.yscale('log')\n",
    "plt.xlabel('People per Image')\n",
    "plt.ylabel('Number of Images')\n",
    "plt.show()"
   ]
  },
  {
   "cell_type": "code",
   "execution_count": 7,
   "metadata": {},
   "outputs": [
    {
     "data": {
      "text/html": [
       "<div>\n",
       "<style scoped>\n",
       "    .dataframe tbody tr th:only-of-type {\n",
       "        vertical-align: middle;\n",
       "    }\n",
       "\n",
       "    .dataframe tbody tr th {\n",
       "        vertical-align: top;\n",
       "    }\n",
       "\n",
       "    .dataframe thead th {\n",
       "        text-align: right;\n",
       "    }\n",
       "</style>\n",
       "<table border=\"1\" class=\"dataframe\">\n",
       "  <thead>\n",
       "    <tr style=\"text-align: right;\">\n",
       "      <th></th>\n",
       "      <th>People</th>\n",
       "      <th>Frequency</th>\n",
       "    </tr>\n",
       "  </thead>\n",
       "  <tbody>\n",
       "    <tr>\n",
       "      <th>0</th>\n",
       "      <td>0</td>\n",
       "      <td>11768</td>\n",
       "    </tr>\n",
       "    <tr>\n",
       "      <th>1</th>\n",
       "      <td>1</td>\n",
       "      <td>897</td>\n",
       "    </tr>\n",
       "    <tr>\n",
       "      <th>2</th>\n",
       "      <td>2</td>\n",
       "      <td>236</td>\n",
       "    </tr>\n",
       "    <tr>\n",
       "      <th>3</th>\n",
       "      <td>3</td>\n",
       "      <td>70</td>\n",
       "    </tr>\n",
       "    <tr>\n",
       "      <th>4</th>\n",
       "      <td>4</td>\n",
       "      <td>24</td>\n",
       "    </tr>\n",
       "    <tr>\n",
       "      <th>5</th>\n",
       "      <td>5</td>\n",
       "      <td>15</td>\n",
       "    </tr>\n",
       "    <tr>\n",
       "      <th>7</th>\n",
       "      <td>6</td>\n",
       "      <td>5</td>\n",
       "    </tr>\n",
       "    <tr>\n",
       "      <th>6</th>\n",
       "      <td>7</td>\n",
       "      <td>5</td>\n",
       "    </tr>\n",
       "    <tr>\n",
       "      <th>8</th>\n",
       "      <td>8</td>\n",
       "      <td>2</td>\n",
       "    </tr>\n",
       "    <tr>\n",
       "      <th>11</th>\n",
       "      <td>9</td>\n",
       "      <td>1</td>\n",
       "    </tr>\n",
       "    <tr>\n",
       "      <th>12</th>\n",
       "      <td>10</td>\n",
       "      <td>0</td>\n",
       "    </tr>\n",
       "    <tr>\n",
       "      <th>10</th>\n",
       "      <td>11</td>\n",
       "      <td>1</td>\n",
       "    </tr>\n",
       "    <tr>\n",
       "      <th>9</th>\n",
       "      <td>12</td>\n",
       "      <td>1</td>\n",
       "    </tr>\n",
       "  </tbody>\n",
       "</table>\n",
       "</div>"
      ],
      "text/plain": [
       "    People  Frequency\n",
       "0        0      11768\n",
       "1        1        897\n",
       "2        2        236\n",
       "3        3         70\n",
       "4        4         24\n",
       "5        5         15\n",
       "7        6          5\n",
       "6        7          5\n",
       "8        8          2\n",
       "11       9          1\n",
       "12      10          0\n",
       "10      11          1\n",
       "9       12          1"
      ]
     },
     "execution_count": 7,
     "metadata": {},
     "output_type": "execute_result"
    }
   ],
   "source": [
    "people_table"
   ]
  },
  {
   "cell_type": "markdown",
   "metadata": {},
   "source": [
    "There are many instances in which 0 people are in the image, even though we have already used images that had people in them before we cut each image into 25 smaller images. Maybe we should focus more on using full images, because it would train the model a little bit better. \n",
    "\n",
    "Below we will explore the dataset of full images and see how these compare."
   ]
  },
  {
   "cell_type": "code",
   "execution_count": 8,
   "metadata": {},
   "outputs": [],
   "source": [
    "# Find location of image files and labeled images\n",
    "labels = glob('data/processed/dots/with_people/*.png')"
   ]
  },
  {
   "cell_type": "code",
   "execution_count": 9,
   "metadata": {},
   "outputs": [],
   "source": [
    "# Save people counts per image\n",
    "people_counts = [] # empty list to add to\n",
    "for label in labels: # for each label in the list of files\n",
    "    label_temp = io.imread(label, as_gray=True) # read in as gray\n",
    "    labels_temp = measure.label(label_temp) # measure the number of values\n",
    "    label_flatten = labels_temp.max() # find max value (# of people)\n",
    "    people_counts.append(label_flatten) # append the value into the list"
   ]
  },
  {
   "cell_type": "code",
   "execution_count": 10,
   "metadata": {},
   "outputs": [],
   "source": [
    "# Convert to dataframe\n",
    "people_counts = pd.DataFrame({'people':people_counts})"
   ]
  },
  {
   "cell_type": "code",
   "execution_count": 11,
   "metadata": {},
   "outputs": [],
   "source": [
    "# Count the number of times each number of people is present in the \n",
    "# dataset and sort accordingly\n",
    "people_table = people_counts.people.value_counts().reset_index()\n",
    "people_table.columns = ['People', 'Frequency']\n",
    "\n",
    "# Resort the table\n",
    "people_table = people_table.sort_values('People', ascending=True)"
   ]
  },
  {
   "cell_type": "code",
   "execution_count": 12,
   "metadata": {},
   "outputs": [
    {
     "data": {
      "image/png": "[encoded data removed]",
      "text/plain": [
       "<Figure size 720x360 with 1 Axes>"
      ]
     },
     "metadata": {
      "needs_background": "light"
     },
     "output_type": "display_data"
    }
   ],
   "source": [
    "# Plot the table to see the distribution\n",
    "people_table.plot(x='People', y='Frequency', kind='bar', legend=False, figsize=(10,5))\n",
    "plt.yscale('log')\n",
    "plt.xlabel('People per Image')\n",
    "plt.ylabel('Number of Images')\n",
    "plt.show()"
   ]
  }
 ],
 "metadata": {
  "kernelspec": {
   "display_name": "Python 3",
   "language": "python",
   "name": "python3"
  },
  "language_info": {
   "codemirror_mode": {
    "name": "ipython",
    "version": 3
   },
   "file_extension": ".py",
   "mimetype": "text/x-python",
   "name": "python",
   "nbconvert_exporter": "python",
   "pygments_lexer": "ipython3",
   "version": "3.7.4"
  }
 },
 "nbformat": 4,
 "nbformat_minor": 2
}
