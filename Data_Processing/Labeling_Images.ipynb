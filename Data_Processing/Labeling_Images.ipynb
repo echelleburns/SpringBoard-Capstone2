{
 "cells": [
  {
   "cell_type": "markdown",
   "metadata": {},
   "source": [
    "# Labeling People in Drone Footage for Deep Learning \n",
    "\n",
    "This code will open each image in a file and display it for you to mark the people present. Start the mouse at the middle of a person, click and drag until the gray ellipses have completely encapsulated the person of interest. Release the mouse and move onto the next person. If you make a mistake, click the right mouse button. Ellipses in red are what will be saved to the file. Once you are done, click the enter button to remove all tracer and deleted ellipses (gray and white, respectively) and display only the final ellipses (red). Click the escape button to save the image as a labeled file and move onto the next image."
   ]
  },
  {
   "cell_type": "code",
   "execution_count": null,
   "metadata": {},
   "outputs": [],
   "source": [
    "# Load packages\n",
    "import glob # for getting file names\n",
    "import cv2 # for interactive drawing/labeling"
   ]
  },
  {
   "cell_type": "code",
   "execution_count": null,
   "metadata": {},
   "outputs": [],
   "source": [
    "# List files\n",
    "files = glob.glob('D:/Documents/SpringBoard/capstone-2/data/raw/all/*.png')"
   ]
  },
  {
   "cell_type": "code",
   "execution_count": null,
   "metadata": {},
   "outputs": [],
   "source": [
    "# Set up for drawing ellipses\n",
    "drawing = False # true if mouse is pressed\n",
    "ix,iy = -1,-1 # initialize location\n",
    "final_list = [] # initialize list to save ellipse locations\n",
    "\n",
    "# Build the mouse call-back function\n",
    "def draw_circle(event,x,y,flags,param):\n",
    "    \"\"\" Creates an ellipse from a click and drag with the mouse \"\"\"\n",
    "    \n",
    "    global ix,iy,drawing,mode, final_list # initialize global variables\n",
    "       \n",
    "    if event == cv2.EVENT_LBUTTONDOWN: # if you click the left mouse button\n",
    "        drawing = True # you have started drawing\n",
    "        ix,iy = x,y # save initial mouse locations\n",
    "\n",
    "    elif event == cv2.EVENT_MOUSEMOVE: # if you move the mouse\n",
    "        if drawing == True: # and you're drawing\n",
    "            trace = cv2.ellipse(img,(ix,iy),(abs(x-ix),abs(y-iy)),0,0,360,(169,169,169),1)\n",
    "                # build an ellipse on the image, with the center being at ix, iy, the radius\n",
    "                # values for length and width being half of the distance your mouse has traveled\n",
    "                # (current x location - initial x location), start at 0 angle, start at the \n",
    "                # ellipse being at 0 degrees and ending at 360 degrees, with a RGB color for \n",
    "                # gray and a line width of one\n",
    "\n",
    "    elif event == cv2.EVENT_LBUTTONUP: # if you unclick the left mouse button\n",
    "        drawing = False # you're no longer drawing\n",
    "        cv2.ellipse(img,(ix,iy),(abs(x-ix),abs(y-iy)),0,0,360,(0,0,255),2)\n",
    "            # add a final red ellipse to the ellipse you made last\n",
    "        final_list.append((x,y,ix,iy)) # and add this to the final list\n",
    "        \n",
    "    elif event == cv2.EVENT_RBUTTONDOWN: # if you click the right mouse button\n",
    "        if len(final_list) >= 1:  # if the final list has data in it\n",
    "            cv2.ellipse(img,(final_list[-1][2],final_list[-1][3]),\n",
    "                        (abs(final_list[-1][0]-final_list[-1][2]),\n",
    "                         abs(final_list[-1][1]-final_list[-1][3])),\n",
    "                        0,0,360,(255,255,255),2)\n",
    "                # draw an ellipse over the most recent ellipse and make it white so that\n",
    "                # you know it will be deleted\n",
    "            del final_list[-1] # and remove it from the final list"
   ]
  },
  {
   "cell_type": "code",
   "execution_count": null,
   "metadata": {},
   "outputs": [],
   "source": [
    "for file in files: # for each file that we need to label\n",
    "    final_list = [] # start a new file list\n",
    "    img = cv2.imread(file) # read in the file\n",
    "    img = cv2.resize(img, (960, 540)) # rescale it so that it's easier to work with\n",
    "    cv2.namedWindow('image') # name the window that the image will be produced in\n",
    "    cv2.setMouseCallback('image',draw_circle) # set up mouse callbacks\n",
    "\n",
    "    while(1): # while the window is open\n",
    "        cv2.imshow('image',img) # show the image\n",
    "        k = cv2.waitKey(1) & 0xFF # and set up a wait key to do things\n",
    "        if k == 13: # if you hit enter (key 13)\n",
    "            img = cv2.imread(file) # this will re-read the file\n",
    "            img = cv2.resize(img, (960, 540)) # re-size the file\n",
    "            cv2.namedWindow('image') # re-draw the window\n",
    "            cv2.setMouseCallback('image',draw_circle) # set up mouse callbacks\n",
    "            cv2.imshow('image',img) # show the image\n",
    "            for shape in range(0,len(final_list)): # for each ellipse that has been saved\n",
    "                cv2.ellipse(img,(final_list[shape][2],final_list[shape][3]),\n",
    "                            (abs(final_list[shape][0]-final_list[shape][2]),\n",
    "                             abs(final_list[shape][1]-final_list[shape][3])),\n",
    "                            0,0,360,(0,0,255),2)\n",
    "                    # plot the final shapes in red\n",
    "        if k == 27: # if you hit the escape key\n",
    "            filename = file.split('\\\\')[1] # grab the file name from the list of files\n",
    "            filename = filename.split('.png')[0] # remove the .png\n",
    "            filename = filename + '_labeled.png' # add labeled.png to the end\n",
    "            cv2.imwrite(filename, img) # write the image to the file\n",
    "            break # stop the interaction image\n",
    "\n",
    "    cv2.destroyAllWindows() # and close all open windows"
   ]
  }
 ],
 "metadata": {
  "kernelspec": {
   "display_name": "Python 3",
   "language": "python",
   "name": "python3"
  },
  "language_info": {
   "codemirror_mode": {
    "name": "ipython",
    "version": 3
   },
   "file_extension": ".py",
   "mimetype": "text/x-python",
   "name": "python",
   "nbconvert_exporter": "python",
   "pygments_lexer": "ipython3",
   "version": "3.7.4"
  }
 },
 "nbformat": 4,
 "nbformat_minor": 2
}
